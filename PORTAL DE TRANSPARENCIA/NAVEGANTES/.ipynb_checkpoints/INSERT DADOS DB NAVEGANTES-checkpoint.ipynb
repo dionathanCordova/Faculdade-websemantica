{
 "cells": [
  {
   "cell_type": "code",
   "execution_count": 1,
   "metadata": {},
   "outputs": [],
   "source": [
    "import pandas as pd\n",
    "import csv"
   ]
  },
  {
   "cell_type": "code",
   "execution_count": 2,
   "metadata": {},
   "outputs": [],
   "source": [
    "import MySQLdb"
   ]
  },
  {
   "cell_type": "code",
   "execution_count": 3,
   "metadata": {},
   "outputs": [],
   "source": [
    "con = MySQLdb.connect(host=\"localhost\", user=\"root\", passwd=\"\", db=\"prefeitura_sbac\")"
   ]
  },
  {
   "cell_type": "code",
   "execution_count": 4,
   "metadata": {},
   "outputs": [],
   "source": [
    "cursor = con.cursor()"
   ]
  },
  {
   "cell_type": "code",
   "execution_count": 5,
   "metadata": {},
   "outputs": [
    {
     "name": "stdout",
     "output_type": "stream",
     "text": [
      "<class 'pandas.core.frame.DataFrame'>\n",
      "RangeIndex: 2751 entries, 0 to 2750\n",
      "Data columns (total 9 columns):\n",
      "Descrição da vaga    2751 non-null object\n",
      "Lei Decreto          2751 non-null object\n",
      "Ato                  2202 non-null object\n",
      "Matrícula            2751 non-null int64\n",
      "Nome                 2751 non-null object\n",
      "Unnamed: 5           0 non-null float64\n",
      "Unnamed: 6           0 non-null float64\n",
      "CPF                  2721 non-null object\n",
      "Lotação              2751 non-null object\n",
      "dtypes: float64(2), int64(1), object(6)\n",
      "memory usage: 193.5+ KB\n"
     ]
    }
   ],
   "source": [
    "Dados = pd.read_csv('quadroPessoal.csv', sep=';') \n",
    "Dados.info()"
   ]
  },
  {
   "cell_type": "code",
   "execution_count": 6,
   "metadata": {},
   "outputs": [
    {
     "data": {
      "text/plain": [
       "2751"
      ]
     },
     "execution_count": 6,
     "metadata": {},
     "output_type": "execute_result"
    }
   ],
   "source": [
    "qtd_registros = len(Dados)\n",
    "qtd_registros"
   ]
  },
  {
   "cell_type": "code",
   "execution_count": null,
   "metadata": {},
   "outputs": [],
   "source": [
    "create_table = \"\"\"CREATE TABLE IF NOT EXISTS navegantes (id int not null auto_incremente PRIMARY KEY, nome varchar(255), cargo, matricula, horas_mes) VALUES (%s, %s, %s, %s)\"\"\""
   ]
  },
  {
   "cell_type": "code",
   "execution_count": 24,
   "metadata": {},
   "outputs": [],
   "source": [
    "query = \"\"\"INSERT INTO balneario_camboriu (nome, cargo, matricula, horas_mes) VALUES (%s, %s, %s, %s)\"\"\""
   ]
  },
  {
   "cell_type": "code",
   "execution_count": 25,
   "metadata": {},
   "outputs": [],
   "source": [
    "cont = 0;\n",
    "for r in range(1, qtd_registros):\n",
    "    NomeFuncionário = Dados['Nome']\n",
    "    Cargo = Dados['Cargo']\n",
    "    Matrícula = Dados['Matrícula']\n",
    "    Horas_mes = Dados['Horas/mês']\n",
    "    \n",
    "    # Assign values from each row\n",
    "    values = (NomeFuncionário[cont], Cargo[cont], Matrícula[cont], Horas_mes[cont])\n",
    "\n",
    "    # Execute sql Query\n",
    "    cursor.execute(query, values)\n",
    "    cont = cont + 1"
   ]
  },
  {
   "cell_type": "code",
   "execution_count": 26,
   "metadata": {},
   "outputs": [],
   "source": [
    "# Close the cursor\n",
    "cursor.close()"
   ]
  },
  {
   "cell_type": "code",
   "execution_count": 27,
   "metadata": {},
   "outputs": [],
   "source": [
    "# Commit the transaction\n",
    "con.commit()"
   ]
  },
  {
   "cell_type": "code",
   "execution_count": 28,
   "metadata": {},
   "outputs": [],
   "source": [
    "# Close the database connection\n",
    "con.close()"
   ]
  },
  {
   "cell_type": "code",
   "execution_count": null,
   "metadata": {},
   "outputs": [],
   "source": []
  }
 ],
 "metadata": {
  "kernelspec": {
   "display_name": "Python 3",
   "language": "python",
   "name": "python3"
  },
  "language_info": {
   "codemirror_mode": {
    "name": "ipython",
    "version": 3
   },
   "file_extension": ".py",
   "mimetype": "text/x-python",
   "name": "python",
   "nbconvert_exporter": "python",
   "pygments_lexer": "ipython3",
   "version": "3.6.5"
  }
 },
 "nbformat": 4,
 "nbformat_minor": 2
}
