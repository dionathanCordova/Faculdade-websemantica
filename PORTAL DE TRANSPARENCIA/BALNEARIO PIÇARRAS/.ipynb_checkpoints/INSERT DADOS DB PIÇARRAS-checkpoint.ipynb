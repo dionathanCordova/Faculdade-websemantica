{
 "cells": [
  {
   "cell_type": "code",
   "execution_count": 6,
   "metadata": {},
   "outputs": [],
   "source": [
    "import pandas as pd\n",
    "import csv"
   ]
  },
  {
   "cell_type": "code",
   "execution_count": 7,
   "metadata": {},
   "outputs": [],
   "source": [
    "import MySQLdb"
   ]
  },
  {
   "cell_type": "code",
   "execution_count": 8,
   "metadata": {},
   "outputs": [],
   "source": [
    "con = MySQLdb.connect(host=\"localhost\", user=\"root\", passwd=\"\", db=\"prefeitura_sbac\")"
   ]
  },
  {
   "cell_type": "code",
   "execution_count": 9,
   "metadata": {},
   "outputs": [],
   "source": [
    "cursor = con.cursor()"
   ]
  },
  {
   "cell_type": "code",
   "execution_count": 10,
   "metadata": {},
   "outputs": [
    {
     "name": "stdout",
     "output_type": "stream",
     "text": [
      "<class 'pandas.core.frame.DataFrame'>\n",
      "RangeIndex: 1039 entries, 0 to 1038\n",
      "Data columns (total 12 columns):\n",
      "Matrícula - Funcionário    1039 non-null object\n",
      "Nome Funcionário           1034 non-null object\n",
      "Unnamed: 2                 0 non-null float64\n",
      "Unnamed: 3                 1 non-null object\n",
      "Cargo                      1034 non-null object\n",
      "Centro Custo               1034 non-null object\n",
      "Unnamed: 6                 1 non-null object\n",
      "Unnamed: 7                 0 non-null float64\n",
      "Salário Bruto              1036 non-null object\n",
      "Unnamed: 9                 1 non-null float64\n",
      "Unnamed: 10                0 non-null float64\n",
      "Unnamed: 11                0 non-null float64\n",
      "dtypes: float64(5), object(7)\n",
      "memory usage: 97.5+ KB\n"
     ]
    }
   ],
   "source": [
    "Dados = pd.read_excel(\"Consulta de Quadro Funcional BALNEARIO PIÇARRAS.xlsx\")\n",
    "Dados.info()"
   ]
  },
  {
   "cell_type": "code",
   "execution_count": 26,
   "metadata": {},
   "outputs": [
    {
     "data": {
      "text/plain": [
       "1085"
      ]
     },
     "execution_count": 26,
     "metadata": {},
     "output_type": "execute_result"
    }
   ],
   "source": [
    "qtd_registros = len(Dados)\n",
    "qtd_registros"
   ]
  },
  {
   "cell_type": "markdown",
   "metadata": {},
   "source": [
    "### DROP TABELA"
   ]
  },
  {
   "cell_type": "code",
   "execution_count": 27,
   "metadata": {},
   "outputs": [
    {
     "data": {
      "text/plain": [
       "0"
      ]
     },
     "execution_count": 27,
     "metadata": {},
     "output_type": "execute_result"
    }
   ],
   "source": [
    "drop_table = 'DROP TABLE porto_belo'\n",
    "cursor.execute(drop_table)"
   ]
  },
  {
   "cell_type": "markdown",
   "metadata": {},
   "source": [
    "### Criando Tabela"
   ]
  },
  {
   "cell_type": "code",
   "execution_count": 28,
   "metadata": {},
   "outputs": [
    {
     "data": {
      "text/plain": [
       "0"
      ]
     },
     "execution_count": 28,
     "metadata": {},
     "output_type": "execute_result"
    }
   ],
   "source": [
    "create_table = \"\"\"CREATE TABLE IF NOT EXISTS porto_belo (id int not null auto_increment PRIMARY KEY, nome varchar(255), cargo varchar(255), matricula varchar(30) DEFAULT 'Não Informado', CPF varchar(40) default 'Nao informado', horas_mes varchar(40) DEFAULT 'Nao informado', modifield datetime DEFAULT CURRENT_TIMESTAMP, cidade varchar(200) default 'Porto Belo')DEFAULT CHARSET = utf8;\"\"\"\n",
    "cursor.execute(create_table)"
   ]
  },
  {
   "cell_type": "markdown",
   "metadata": {},
   "source": [
    "### SQL INSERT DADOS"
   ]
  },
  {
   "cell_type": "code",
   "execution_count": 29,
   "metadata": {},
   "outputs": [],
   "source": [
    "query = \"\"\"INSERT INTO porto_belo (nome, cargo, matricula) VALUES (%s, %s, %s)\"\"\""
   ]
  },
  {
   "cell_type": "code",
   "execution_count": 30,
   "metadata": {},
   "outputs": [],
   "source": [
    "cont = 0;\n",
    "for r in range(0, qtd_registros):\n",
    "    \n",
    "    # Assign values from each row\n",
    "    values = (Dados['Nome Funcionário'][cont], Dados['Cargo'][cont], Dados['Matrícula - Funcionário'][cont])\n",
    "\n",
    "    # Execute sql Query\n",
    "    cursor.execute(query, values)\n",
    "    cont = cont + 1"
   ]
  },
  {
   "cell_type": "code",
   "execution_count": 31,
   "metadata": {},
   "outputs": [],
   "source": [
    "# Close the cursor\n",
    "cursor.close()"
   ]
  },
  {
   "cell_type": "code",
   "execution_count": 32,
   "metadata": {},
   "outputs": [],
   "source": [
    "# Commit the transaction\n",
    "con.commit()"
   ]
  },
  {
   "cell_type": "code",
   "execution_count": 33,
   "metadata": {},
   "outputs": [],
   "source": [
    "# Close the database connection\n",
    "con.close()"
   ]
  },
  {
   "cell_type": "code",
   "execution_count": null,
   "metadata": {},
   "outputs": [],
   "source": []
  },
  {
   "cell_type": "code",
   "execution_count": null,
   "metadata": {},
   "outputs": [],
   "source": []
  },
  {
   "cell_type": "code",
   "execution_count": null,
   "metadata": {},
   "outputs": [],
   "source": []
  }
 ],
 "metadata": {
  "kernelspec": {
   "display_name": "Python 3",
   "language": "python",
   "name": "python3"
  },
  "language_info": {
   "codemirror_mode": {
    "name": "ipython",
    "version": 3
   },
   "file_extension": ".py",
   "mimetype": "text/x-python",
   "name": "python",
   "nbconvert_exporter": "python",
   "pygments_lexer": "ipython3",
   "version": "3.6.5"
  }
 },
 "nbformat": 4,
 "nbformat_minor": 2
}
