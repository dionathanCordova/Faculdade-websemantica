{
 "cells": [
  {
   "cell_type": "code",
   "execution_count": 1,
   "metadata": {},
   "outputs": [],
   "source": [
    "import pandas as pd\n",
    "import csv"
   ]
  },
  {
   "cell_type": "code",
   "execution_count": 2,
   "metadata": {},
   "outputs": [],
   "source": [
    "import MySQLdb"
   ]
  },
  {
   "cell_type": "code",
   "execution_count": 3,
   "metadata": {},
   "outputs": [],
   "source": [
    "con = MySQLdb.connect(host=\"localhost\", user=\"root\", passwd=\"\", db=\"prefeitura_sbac\")"
   ]
  },
  {
   "cell_type": "code",
   "execution_count": 4,
   "metadata": {},
   "outputs": [],
   "source": [
    "cursor = con.cursor()"
   ]
  },
  {
   "cell_type": "code",
   "execution_count": 5,
   "metadata": {},
   "outputs": [
    {
     "name": "stdout",
     "output_type": "stream",
     "text": [
      "<class 'pandas.core.frame.DataFrame'>\n",
      "RangeIndex: 1034 entries, 0 to 1033\n",
      "Data columns (total 12 columns):\n",
      "Matrícula - Funcionário    1034 non-null int64\n",
      "Nome Funcionário           1034 non-null object\n",
      "Unnamed: 2                 0 non-null float64\n",
      "Unnamed: 3                 0 non-null float64\n",
      "Cargo                      1034 non-null object\n",
      "Centro Custo               1034 non-null object\n",
      "Unnamed: 6                 0 non-null float64\n",
      "Unnamed: 7                 0 non-null float64\n",
      "Salário Bruto              1034 non-null float64\n",
      "Unnamed: 9                 0 non-null float64\n",
      "Unnamed: 10                0 non-null float64\n",
      "Unnamed: 11                0 non-null float64\n",
      "dtypes: float64(8), int64(1), object(3)\n",
      "memory usage: 97.0+ KB\n"
     ]
    }
   ],
   "source": [
    "Dados = pd.read_excel(\"Consulta de Quadro Funcional BALNEARIO PIÇARRAS.xlsx\")\n",
    "Dados.info()"
   ]
  },
  {
   "cell_type": "code",
   "execution_count": 6,
   "metadata": {},
   "outputs": [
    {
     "data": {
      "text/plain": [
       "1034"
      ]
     },
     "execution_count": 6,
     "metadata": {},
     "output_type": "execute_result"
    }
   ],
   "source": [
    "qtd_registros = len(Dados)\n",
    "qtd_registros"
   ]
  },
  {
   "cell_type": "markdown",
   "metadata": {},
   "source": [
    "### DROP TABELA"
   ]
  },
  {
   "cell_type": "code",
   "execution_count": 7,
   "metadata": {},
   "outputs": [
    {
     "data": {
      "text/plain": [
       "0"
      ]
     },
     "execution_count": 7,
     "metadata": {},
     "output_type": "execute_result"
    }
   ],
   "source": [
    "drop_table = 'DROP TABLE picarras'\n",
    "cursor.execute(drop_table)"
   ]
  },
  {
   "cell_type": "markdown",
   "metadata": {},
   "source": [
    "### Criando Tabela"
   ]
  },
  {
   "cell_type": "code",
   "execution_count": 8,
   "metadata": {},
   "outputs": [
    {
     "data": {
      "text/plain": [
       "0"
      ]
     },
     "execution_count": 8,
     "metadata": {},
     "output_type": "execute_result"
    }
   ],
   "source": [
    "create_table = \"\"\"CREATE TABLE IF NOT EXISTS picarras (id int not null auto_increment PRIMARY KEY, nome varchar(255), cargo varchar(255), matricula varchar(30) DEFAULT 'Null', CPF varchar(40) default 'Null', horas_mes varchar(40) DEFAULT 'Null', modifield datetime DEFAULT CURRENT_TIMESTAMP, cidade varchar(200) default 'Balneário Piçarras', tabela varchar(255) DEFAULT 'picarras')DEFAULT CHARSET = utf8;\"\"\"\n",
    "cursor.execute(create_table)"
   ]
  },
  {
   "cell_type": "markdown",
   "metadata": {},
   "source": [
    "### SQL INSERT DADOS"
   ]
  },
  {
   "cell_type": "code",
   "execution_count": 9,
   "metadata": {},
   "outputs": [],
   "source": [
    "query = \"\"\"INSERT INTO picarras (nome, cargo, matricula) VALUES (%s, %s, %s)\"\"\""
   ]
  },
  {
   "cell_type": "code",
   "execution_count": 10,
   "metadata": {},
   "outputs": [],
   "source": [
    "cont = 0;\n",
    "for r in range(0, qtd_registros):\n",
    "    \n",
    "    # Assign values from each row\n",
    "    values = (Dados['Nome Funcionário'][cont], Dados['Cargo'][cont], Dados['Matrícula - Funcionário'][cont])\n",
    "\n",
    "    # Execute sql Query\n",
    "    cursor.execute(query, values)\n",
    "    cont = cont + 1"
   ]
  },
  {
   "cell_type": "code",
   "execution_count": 11,
   "metadata": {},
   "outputs": [],
   "source": [
    "# Close the cursor\n",
    "cursor.close()"
   ]
  },
  {
   "cell_type": "code",
   "execution_count": 12,
   "metadata": {},
   "outputs": [],
   "source": [
    "# Commit the transaction\n",
    "con.commit()"
   ]
  },
  {
   "cell_type": "code",
   "execution_count": 13,
   "metadata": {},
   "outputs": [],
   "source": [
    "# Close the database connection\n",
    "con.close()"
   ]
  },
  {
   "cell_type": "code",
   "execution_count": null,
   "metadata": {},
   "outputs": [],
   "source": []
  },
  {
   "cell_type": "code",
   "execution_count": null,
   "metadata": {},
   "outputs": [],
   "source": []
  },
  {
   "cell_type": "code",
   "execution_count": null,
   "metadata": {},
   "outputs": [],
   "source": []
  }
 ],
 "metadata": {
  "kernelspec": {
   "display_name": "Python 3",
   "language": "python",
   "name": "python3"
  },
  "language_info": {
   "codemirror_mode": {
    "name": "ipython",
    "version": 3
   },
   "file_extension": ".py",
   "mimetype": "text/x-python",
   "name": "python",
   "nbconvert_exporter": "python",
   "pygments_lexer": "ipython3",
   "version": "3.6.5"
  }
 },
 "nbformat": 4,
 "nbformat_minor": 2
}
